{
 "cells": [
  {
   "cell_type": "markdown",
   "metadata": {},
   "source": [
    "# COGS 108 - Final Project Proposal"
   ]
  },
  {
   "cell_type": "markdown",
   "metadata": {},
   "source": [
    "# Names\n",
    "\n",
    "- Michelle Tenin\n",
    "- Junhee Chung\n",
    "- Dilara Marasili\n",
    "- Nada Gehad Gelal\n",
    "- Justin Chanthabandith"
   ]
  },
  {
   "cell_type": "markdown",
   "metadata": {},
   "source": [
    "# Research Question"
   ]
  },
  {
   "cell_type": "markdown",
   "metadata": {},
   "source": [
    "*What effect do driving scenes, such as weather, road, and traffic conditions, have on the success/failure of developing AV technology?*"
   ]
  },
  {
   "cell_type": "markdown",
   "metadata": {},
   "source": [
    "## Background and Prior Work"
   ]
  },
  {
   "cell_type": "markdown",
   "metadata": {},
   "source": [
    "Autonomous vehicles development has been slowly progressing over the last couple decades as buzzwords like machine learning and AI have made AV one of the more intriguing commercial applications to this emerging technology. The AV problem can be encapsulated into 5 levels:\n",
    "1. “At least one driver support system that provides steering assistance OR braking and acceleration assistance” [^jdpower].\n",
    "2. “Level 2 driving automation applies to vehicles with advanced driving assistance systems (ADAS) that can take over steering, acceleration, and braking in specific scenarios” [^jdpower].\n",
    "3. Starting from Level 3, it becomes “automated driving features”, as opposed to simply being “driver support features.” Level 3 requires a human driver to be “present, alert, and able to take control of the vehicle at any time” [^jdpower].\n",
    "4. “Level 4 autonomy does not require any human interaction in the vehicle’s operation,” but are limited by “geofencing technology” and other external factors [^jdpower].\n",
    "5. Level 5 autonomy, in addition to all of Level 4’s features, has no boundaries and can drive itself anywhere in any condition [^jdpower].\n",
    "\n",
    "Most companies have managed to commercialize level 2 autonomy in their vehicles, embedding driver-assist features such as Tesla’s Autopilot, GM’s SuperCruise, and Nissan’s ProPilot. However, as these companies continue to develop for fully self-driving (FSD) capabilities, the imperfections of the software are reflected in collision and disengagement reports. Since most autonomous vehicles development outfits like Cruise and Waymo flock to California’s Silicon Valley for the optimal driving conditions and investment opportunities, the CA DMV has put in place reporting processes to capture the activity of developing autonomous vehicles in public traffic conditions. \n",
    "\n",
    "This accumulation of information in collision and disengagement reports has allowed data scientists to explore the nature of driver-car interaction. Specifically, Zhang et al. [^zhang] have explored the case-and-effect relationships of Autonomous Vehicles Disengagement (AVD), looking at long-hand descriptions of disengagements (driver-AV transition) to try to understand their causes and the safety implications. The paper found that disengagements were driver-initiated more than 80% of the time and was a result of some AV system failure (paper breaks it down in more details). Another research group, Alambeigi et al. [^alambeigi] , focuses on the open-ended collision reports to gain insight into driver-AV interaction and the safety issues associated with transitioning from autonomous to manual driving. This paper goes into more detail on data wrangling/cleaning techniques as well as their approach to analysis (how they parsed the long-hand descriptions). Although these papers focus more heavily on the safety of driver-AV takeover transitions rather than driving conditions, the insights into how they handled their datasets will be helpful for our own analysis. A third paper written by Dixit et al. [^dixit] offers a similar research question to what we are asking: what is causing these disengagements? Is there a relationship between driving situations and disengagements initiated (by either driver or AV). The difference here is they look more closely at the disengagement reports alone (specifically reaction times) and compare them to the mileage reports, finding a positive correlation between the AV’s mileage and number of disengagements. This was an insightful paper that looked closely at some of the factors for poor performance that we are interested in as well; however, we also noticed that this research was conducted with data up until 2016 which might be deemed outdated by this point. One potential future direction could be to compare our research findings with those from Dixit et al. \n",
    "\n",
    "Other Reading Material:\n",
    "* [Automated Vehicle Safety Historical Article](https://journals.plos.org/plosone/article?id=10.1371/journal.pone.0168054)  \n",
    "Evolution of autonomy over the last couple decades\n",
    "* [Current challenges in developing Autonomous Vehicles](https://www.vox.com/2016/4/21/11447838/self-driving-cars-challenges-obstacles) \n",
    "Interesting takeaway: driving has inherently social processes embedded  \n",
    "Also references weather as an obstacle\n",
    "* [Impact of Autonomy on Driver Skills](https://www.michigan.gov/documents/mdot/Impact_of_CAV_Technology_on_Driver_Skills_533519_7.pdf)\n",
    "Analyzes automated driving features that exist on-road today and how that affects human driving behavior  \n",
    "The report found a loss in driver skill and ability to take over the car when automation ends (abrupt takeover results in worse performance than anticipated takeover). More detailed results can be found in the report.\n",
    "* [Brief about the 5 main challenges in AV driving](https://www.iiot-world.com/artificial-intelligence-ml/artificial-intelligence/five-challenges-in-designing-a-fully-autonomous-system-for-driverless-cars/)  \n",
    "Short article that summarizes the main challenges to AV driving: road conditions, weather conditions, traffic conditions, accident liability, radar interference (first three are probably most important)\n",
    "* [Article giving background on disengagement reports](https://www.cnet.com/roadshow/news/apple-self-driving-car-reveal-cruise-waymo-testing-data/)\n",
    "* [Research paper exploring the causes of autonomous vehicles disengagement (AVD)](https://arxiv.org/pdf/2111.03511.pdf)  \n",
    " Analyzes the safety in transitioning the car from AV to driver (AVD), what causes poor AVD\n",
    "* [Research paper exploring AVD by mapping to certain collision scenarios and evaluating safety](https://arxiv.org/pdf/2001.11087.pdf)  \n",
    "Provides a good breakdown of data wrangling and cleaning methods, as well as report language parsing reasoning\n",
    "\n",
    "[^jdpower]: “Car Reviews, Ratings and Awards | J.D. Power and Associates.” J. D. Power, www.jdpower.com. Accessed 23 Apr. 2022.\n",
    "[^zhang]: Zhang, Yangtao, et. al Disengagement Cause-and-Effect Relationships\n",
    "Extraction Using an NLP Pipeline. https://arxiv.org/pdf/2111.03511.pdf\n",
    "[^alambeigi]: Alambeigi, Hananeh et. al Crash Themes in Automated Vehicles: A Topic Modeling Analysis of the California Department of Motor\n",
    "Vehicles Automated Vehicle Crash Database. https://arxiv.org/ftp/arxiv/papers/2001/2001.11087.pdf \n",
    "[^dixit]: Dixit, Vinayak V. et. al Autonomous Vehicles: Disengagements,\n",
    "Accidents and Reaction Times. https://journals.plos.org/plosone/article/file?id=10.1371/journal.pone.0168054&type=printable\n",
    "\n"
   ]
  },
  {
   "cell_type": "markdown",
   "metadata": {},
   "source": [
    "# Hypothesis\n"
   ]
  },
  {
   "cell_type": "markdown",
   "metadata": {},
   "source": [
    "*We think that poor weather conditions affect driving capabilities - meaning it will cause an autonomous vehicle disengagement (ADV) - due to poor image quality on cameras and slippery roads. Unique driving situations like obstacles (ie pedestrians) and other vehicles will cause more disengagements and collisions due to edge case data. We feel we will find more inconsistency on streets rather than highways due to the inconsistency of neighborhood roadways versus the highway. *"
   ]
  },
  {
   "cell_type": "markdown",
   "metadata": {},
   "source": [
    "# Data"
   ]
  },
  {
   "cell_type": "markdown",
   "metadata": {},
   "source": [
    "What variables? \n",
    "\n",
    "- Manufacturer \n",
    "- Date \n",
    "- Vehicle is capable of operating without a driver \n",
    "- Driver Present \n",
    "- Disengage Initiate \n",
    "- Disengagement Location \n",
    "- Description of facts that cause disengagement\n",
    "- Weather condition \n",
    "- To see the driving performance \n",
    "1. lateral control - steering \n",
    "2. longitudinal control - braking, accelerating \n",
    "3. object and event detection and response (OEDR) \n",
    "- Driving situations \n",
    "1. Traffic lights \n",
    "2. Stop signs \n",
    "3. Intersections \n",
    "4. Weather conditions \n",
    "\n",
    "How would they be stored? \n",
    "- Semi-structured data, well documented, machine-readable, Discrete/categorical variables \n",
    "\n",
    "How many observations would you have? \n",
    "- More than 1000 \n",
    "\n",
    "What/who would the observations be? Over what time period? etc. \n",
    "- We expect Self-driven car trials between 2013 and 2022, so the last ten years ideally. \n"
   ]
  },
  {
   "cell_type": "markdown",
   "metadata": {},
   "source": [
    "# Ethics & Privacy"
   ]
  },
  {
   "cell_type": "markdown",
   "metadata": {},
   "source": [
    "The datasets from the DMV report vehicle disengagements of vehicles that were being tested, which are often still under development, making the data not necessarily representative of fully developed cars that are used by the public. However, the tested cars are highly likely to have difficulty during the same type of situations as the fully developed cars. \n",
    "\n",
    "People in different cities/states have different driving habits. For example, people in San Diego generally follow the rules of the road more than people in Los Angeles, so when testing cars on the road, the risks that a car faces are likely to differ based on specific locations. Since the exact location of the testing is unspecified in the dataset, we are not able to judge whether the data is diverse enough among different parts of California. \n"
   ]
  },
  {
   "cell_type": "markdown",
   "metadata": {},
   "source": [
    "# Team Expectations "
   ]
  },
  {
   "cell_type": "markdown",
   "metadata": {},
   "source": [
    "* *Attend all scheduled meetings*\n",
    "* *Communication through Facebook Messenger*\n",
    "* *Keep us updated if you can’t pull through on something*\n",
    "* *Check messages regularly throughout the day*\n",
    "* *If someone doesn’t follow through with expectations, we can escalate to TA and then professor*\n",
    "* *If conflict arises, we will handle communication in a professional way*\n",
    "* *Ask for help as early as you can to prevent last minute work*"
   ]
  },
  {
   "cell_type": "markdown",
   "metadata": {},
   "source": [
    "# Project Timeline Proposal"
   ]
  },
  {
   "cell_type": "markdown",
   "metadata": {},
   "source": [
    "| Meeting Date  | Meeting Time| Completed Before Meeting  | Discuss at Meeting |\n",
    "|---|---|---|---|\n",
    "| 4/25  |  12 PM | Read & Think about COGS 108 expectations; brainstorm topics/questions  | Review assignment and assign roles; Find datasets, setup programming environment, clean data| \n",
    "| 5/2  |  12 PM |  TBD | Check-in meeting | \n",
    "| 5/5  | Before 11:59PM | Soft Deadline  | TBD |\n",
    "| 5/6  | Before 11:59PM | Deadline | Review work and finishing touches   |\n",
    "| 5/9  | 12 PM  | TBD | Review assignment and assign roles; Exploratory data analysis (data viz, observations), and discussion |\n",
    "| 5/16  | 12 PM  | TBD | Check-in meeting |\n",
    "| 5/19  | Before 11:59PM | Soft Deadline  | TBD |\n",
    "| 5/20  | Before 11:59PM | Deadline | Review work and finishing touches   |\n",
    "| 5/23  | 12 PM  | TBD| Review remaining sections for the final report and divide tasks |\n",
    "| 5/30  | 12 PM | TBD| Check-in meeting, start to consolidate and add finishing touches |\n",
    "| 6/3  | 12 PM  | Soft Deadline| Review report |\n",
    "| 6/6  | Before 11:59 PM  | Deadline | Turn in Final Project & Group Project Surveys |"
   ]
  }
 ],
 "metadata": {
  "kernelspec": {
   "display_name": "Python 3 (ipykernel)",
   "language": "python",
   "name": "python3"
  },
  "language_info": {
   "codemirror_mode": {
    "name": "ipython",
    "version": 3
   },
   "file_extension": ".py",
   "mimetype": "text/x-python",
   "name": "python",
   "nbconvert_exporter": "python",
   "pygments_lexer": "ipython3",
   "version": "3.9.5"
  }
 },
 "nbformat": 4,
 "nbformat_minor": 2
}
